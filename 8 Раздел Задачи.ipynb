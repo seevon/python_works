{
  "metadata": {
    "language_info": {
      "codemirror_mode": {
        "name": "python",
        "version": 3
      },
      "file_extension": ".py",
      "mimetype": "text/x-python",
      "name": "python",
      "nbconvert_exporter": "python",
      "pygments_lexer": "ipython3",
      "version": "3.8"
    },
    "kernelspec": {
      "name": "python",
      "display_name": "Python (Pyodide)",
      "language": "python"
    }
  },
  "nbformat_minor": 4,
  "nbformat": 4,
  "cells": [
    {
      "cell_type": "markdown",
      "source": "## Задание 1 (Не уникальные элементы)\nПолучить массив, состоящий только из неуникальных элементов данного массива",
      "metadata": {}
    },
    {
      "cell_type": "code",
      "source": "def get_non_unique_numbers(array):\n    result = []\n    for x in array:\n        if array.count(x) > 1:\n            result.append(x)\n    return result\n\nprint(get_non_unique_numbers([1, 2, 3, 1, 3, 7]))",
      "metadata": {
        "trusted": true
      },
      "execution_count": 2,
      "outputs": [
        {
          "name": "stdout",
          "text": "[1, 3, 1, 3]\n",
          "output_type": "stream"
        }
      ]
    },
    {
      "cell_type": "markdown",
      "source": "## Задание 2 (Перестановки)\nПолучить список всех возможных перестановок чисел x, y, z",
      "metadata": {}
    },
    {
      "cell_type": "code",
      "source": "import itertools\n\ndef get_permutation(x, y, z):\n    permutations = []\n    for i in itertools.product([x, y, z], repeat=3):\n        if list(i) not in permutations:\n            permutations.append(list(i))\n    return permutations\n\nx, y, z = 0, 0, 1\nresult = get_permutation(x, y, z)\nprint(result)",
      "metadata": {
        "trusted": true
      },
      "execution_count": 4,
      "outputs": [
        {
          "name": "stdout",
          "text": "[[0, 0, 0], [0, 0, 1], [0, 1, 0], [0, 1, 1], [1, 0, 0], [1, 0, 1], [1, 1, 0], [1, 1, 1]]\n",
          "output_type": "stream"
        }
      ]
    },
    {
      "cell_type": "markdown",
      "source": "## Задание 3 (Удвоенные нечетные)\nПолучить список \"удвоенных\" нечетных чисел от 0 до n.",
      "metadata": {}
    },
    {
      "cell_type": "code",
      "source": "def get_list(n):\n    return [i * 2 for i in range(1, n + 1, 2)]\n\nn=5\nprint(get_list(n))",
      "metadata": {
        "trusted": true
      },
      "execution_count": 6,
      "outputs": [
        {
          "name": "stdout",
          "text": "[2, 6, 10]\n",
          "output_type": "stream"
        }
      ]
    },
    {
      "cell_type": "code",
      "source": "",
      "metadata": {},
      "execution_count": null,
      "outputs": []
    }
  ]
}