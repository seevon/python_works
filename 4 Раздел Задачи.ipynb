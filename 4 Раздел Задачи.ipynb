{
  "metadata": {
    "language_info": {
      "codemirror_mode": {
        "name": "python",
        "version": 3
      },
      "file_extension": ".py",
      "mimetype": "text/x-python",
      "name": "python",
      "nbconvert_exporter": "python",
      "pygments_lexer": "ipython3",
      "version": "3.8"
    },
    "kernelspec": {
      "name": "python",
      "display_name": "Python (Pyodide)",
      "language": "python"
    }
  },
  "nbformat_minor": 4,
  "nbformat": 4,
  "cells": [
    {
      "cell_type": "markdown",
      "source": "## Задание 1 (Среднее)\nДано: 3 случайных числа.\nНаписать программу, которая будет вычислять среднее значение этих чисел.",
      "metadata": {}
    },
    {
      "cell_type": "code",
      "source": "numbers = [7, 14, 30]\naverage = sum(numbers) / len(numbers)\nprint(average)",
      "metadata": {
        "trusted": true
      },
      "execution_count": 1,
      "outputs": [
        {
          "name": "stdout",
          "text": "17.0\n",
          "output_type": "stream"
        }
      ]
    },
    {
      "cell_type": "markdown",
      "source": "## Задание 2 ( Деление)\nДано: 2 случайных числа. Написать программу, которая будет печать результат целочисленного деления этих чисел, а также остаток от деления первого от второго.",
      "metadata": {}
    },
    {
      "cell_type": "code",
      "source": "a = 33\nb = 8\nresult = a // b\nostatok = a % b\n\nprint(\"Результат деления:\", result)\nprint(\"Остаток:\", ostatok)",
      "metadata": {
        "trusted": true
      },
      "execution_count": 2,
      "outputs": [
        {
          "name": "stdout",
          "text": "Результат деления: 4\nОстаток: 1\n",
          "output_type": "stream"
        }
      ]
    },
    {
      "cell_type": "markdown",
      "source": "## Задание 3 (Округление)\nДано: число с плавающей точкой. Написать программу, которая будет округлять заданное число",
      "metadata": {}
    },
    {
      "cell_type": "code",
      "source": "x = 14.721\n\nround_2didgit = round(x, 2)\nprint(\"1) 2 знака после запятой:\", round_2didgit)\n\nround_int = round(x)\nprint(\"2) целое число:\", round_int)\n\nround_11zeros = \"{:.3f}\".format(x)\nif len(round_11zeros) < 11:\n    num_zeros = \"0\" * (11 - len(round_11zeros))\n    round_11zeros = num_zeros + round_11zeros\n\nprint(\"3) нули до 11 знаков:\", round_11zeros)",
      "metadata": {
        "trusted": true
      },
      "execution_count": 11,
      "outputs": [
        {
          "name": "stdout",
          "text": "1) 2 знака после запятой: 14.72\n2) целое число: 15\n3) нули до 11 знаков: 0000014.721\n",
          "output_type": "stream"
        }
      ]
    },
    {
      "cell_type": "code",
      "source": "",
      "metadata": {},
      "execution_count": null,
      "outputs": []
    }
  ]
}