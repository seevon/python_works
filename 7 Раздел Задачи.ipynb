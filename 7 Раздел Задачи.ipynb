{
  "metadata": {
    "language_info": {
      "codemirror_mode": {
        "name": "python",
        "version": 3
      },
      "file_extension": ".py",
      "mimetype": "text/x-python",
      "name": "python",
      "nbconvert_exporter": "python",
      "pygments_lexer": "ipython3",
      "version": "3.8"
    },
    "kernelspec": {
      "name": "python",
      "display_name": "Python (Pyodide)",
      "language": "python"
    }
  },
  "nbformat_minor": 4,
  "nbformat": 4,
  "cells": [
    {
      "cell_type": "markdown",
      "source": "## Задание 1. (Анализ текста. Популярность)\nПолучить 2 словаря (популярности слов и популярности букв).",
      "metadata": {}
    },
    {
      "cell_type": "code",
      "source": "import re\ndef get_char_popularity(text):\n    # Очищаем текст от лишних знаков\n    new_text = re.sub(r'\\W+', ' ', text.lower())\n    # Разбиваем текст на слова\n    words = text.split()\n\n    # считаем появление каждого слова\n    words_popularity = {}\n    for word in words:\n        if word in words_popularity:\n            words_popularity[word] += 1\n        else:\n            words_popularity[word] = 1\n\n    # считаем появление каждой буквы\n    chars_popularity = {}\n    for char in new_text:\n        if char.isalpha():\n            if char in chars_popularity:\n                chars_popularity[char] += 1\n            else:\n                chars_popularity[char] = 1\n\n    return words_popularity, chars_popularity\n\ntext = \"hello world of words, hello\"\nwords_popularity, chars_popularity = get_char_popularity(text)\nprint(words_popularity)\nprint(chars_popularity)",
      "metadata": {
        "trusted": true
      },
      "execution_count": 1,
      "outputs": [
        {
          "name": "stdout",
          "text": "{'hello': 2, 'world': 1, 'of': 1, 'words,': 1}\n{'h': 2, 'e': 2, 'l': 5, 'o': 5, 'w': 2, 'r': 2, 'd': 2, 'f': 1, 's': 1}\n",
          "output_type": "stream"
        }
      ]
    },
    {
      "cell_type": "markdown",
      "source": "## Задание 2. (Римские цифры)\nПреобразовать данное целое число (от 1 до 3999) в римскую систему счета",
      "metadata": {}
    },
    {
      "cell_type": "code",
      "source": "def convert_to_roman(num):\n    roman_values = {\n        1000: 'M', 900: 'CM', 500: 'D', 400: 'CD', 100: 'C', 90: 'XC', 50: 'L', 40: 'XL',\n        10: 'X', 9: 'IX', 5: 'V', 4: 'IV', 1: 'I'\n    }\n    roman_str = ''\n\n    # Перебираем числа  в словаре в порядке убывания значения\n    for value, symbol in roman_values.items():\n        while num >= value:\n            roman_str += symbol\n            num -= value\n\n    return roman_str\n\nprint(convert_to_roman(3217))",
      "metadata": {
        "trusted": true
      },
      "execution_count": 8,
      "outputs": [
        {
          "name": "stdout",
          "text": "MMMCCXVII\n",
          "output_type": "stream"
        }
      ]
    },
    {
      "cell_type": "markdown",
      "source": "## Задание 3. (Ленивый спекулянт)\nОпределить банк и курс покупки валюты с наиболее привлекательным предложением",
      "metadata": {}
    },
    {
      "cell_type": "code",
      "source": "rates = {'Sberbank': 55.8, 'VTB24': 53.91, 'Alfa': 52.3}\n\ndef find_rate(rates):\n    #ищем самый низкий курс\n    for bank, rate in rates.items():\n        if rate < rate:\n            rate = rate\n            bank = bank\n\n    return f\"{bank} -> {rate}\"\n\nprint(find_rate(rates))",
      "metadata": {
        "trusted": true
      },
      "execution_count": 9,
      "outputs": [
        {
          "name": "stdout",
          "text": "Alfa -> 52.3\n",
          "output_type": "stream"
        }
      ]
    },
    {
      "cell_type": "markdown",
      "source": "## Задание 4. (Вверх дном)\nПолучить новый словарь, инвертировав исходный, т.е. пары ключ - значение поменять местами (значение - ключ)",
      "metadata": {}
    },
    {
      "cell_type": "code",
      "source": "def invert(dic):\n    return {value: key for key, value in dic.items()}\n\nbook = {'Petr': '546810', 'Katya': '241815'}\n\ninverted_book = invert(book)\n\nprint(inverted_book)",
      "metadata": {
        "trusted": true
      },
      "execution_count": 11,
      "outputs": [
        {
          "name": "stdout",
          "text": "{'546810': 'Petr', '241815': 'Katya'}\n",
          "output_type": "stream"
        }
      ]
    },
    {
      "cell_type": "markdown",
      "source": "## Задание 5. (Структурируем данные)\nПолучить словарь из 2х списков, где в первом находятся ключи, а во втором значения.",
      "metadata": {}
    },
    {
      "cell_type": "code",
      "source": "#добавляем в словарь новую пару ключ-значение\ndef get_dic(keys, values):\n    result = {}\n    for i in range(len(keys)):\n        result[keys[i]] = values[i]\n    return result\n\ndates = ['2017-03-01', '2017-03-02', '2017-03-03']\nrates = [55.7, 55.2, 56.3]\n\nresult = get_dic(dates, rates)\n\nprint(result)",
      "metadata": {
        "trusted": true
      },
      "execution_count": 13,
      "outputs": [
        {
          "name": "stdout",
          "text": "{'2017-03-01': 55.7, '2017-03-02': 55.2, '2017-03-03': 56.3}\n",
          "output_type": "stream"
        }
      ]
    },
    {
      "cell_type": "code",
      "source": "",
      "metadata": {},
      "execution_count": null,
      "outputs": []
    }
  ]
}