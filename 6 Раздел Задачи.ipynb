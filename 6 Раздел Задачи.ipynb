{
  "metadata": {
    "language_info": {
      "codemirror_mode": {
        "name": "python",
        "version": 3
      },
      "file_extension": ".py",
      "mimetype": "text/x-python",
      "name": "python",
      "nbconvert_exporter": "python",
      "pygments_lexer": "ipython3",
      "version": "3.8"
    },
    "kernelspec": {
      "name": "python",
      "display_name": "Python (Pyodide)",
      "language": "python"
    }
  },
  "nbformat_minor": 4,
  "nbformat": 4,
  "cells": [
    {
      "cell_type": "markdown",
      "source": "## Задание 1. (Последний с четными)\nНайти сумму элементов с четными индексами (0-й, 2-й, 4-й итд), затем перемножить эту сумму и последний элемент исходного массива.",
      "metadata": {}
    },
    {
      "cell_type": "code",
      "source": "list = [0, 1, 2, 3, 4, 5]\nsum = sum(list[::2])\nresult = sum * list[-1]\nprint(result)",
      "metadata": {
        "trusted": true
      },
      "execution_count": 1,
      "outputs": [
        {
          "name": "stdout",
          "text": "30\n",
          "output_type": "stream"
        }
      ]
    },
    {
      "cell_type": "markdown",
      "source": "## Задание 2. (Max-min)\nНайти разницу между самым большим (максимум) и самым малым (минимум) элементом. Если список пуст, то результат равен 0 (ноль).",
      "metadata": {}
    },
    {
      "cell_type": "code",
      "source": "def find_max_and_min(list):\n    if not list:\n        return 0\n    else:\n        max_el = max(list)\n        min_el = min(list)\n        diff = round(abs(max_el - min_el), 3)\n        return diff\n\narray = [10.2, -2.2, 0, 1.1, 0.5]\nprint(find_max_and_min(array))",
      "metadata": {
        "trusted": true
      },
      "execution_count": 2,
      "outputs": [
        {
          "name": "stdout",
          "text": "12.4\n",
          "output_type": "stream"
        }
      ]
    },
    {
      "cell_type": "markdown",
      "source": "## Задание 3. (Умная сортировка)\nДано: кортеж (tuple) чисел. Необходимо отсортировать их, но отсортировать на основе абсолютных значений в возрастающем порядке. ",
      "metadata": {}
    },
    {
      "cell_type": "code",
      "source": "array_of_tuple = (-20, -5, 10, 15)\nsorted_tuple = tuple(sorted(array_of_tuple, key=abs))\nprint(sorted_tuple)",
      "metadata": {
        "trusted": true
      },
      "execution_count": 3,
      "outputs": [
        {
          "name": "stdout",
          "text": "(-5, 10, 15, -20)\n",
          "output_type": "stream"
        }
      ]
    },
    {
      "cell_type": "code",
      "source": "",
      "metadata": {},
      "execution_count": null,
      "outputs": []
    }
  ]
}