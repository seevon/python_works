{
  "metadata": {
    "language_info": {
      "codemirror_mode": {
        "name": "python",
        "version": 3
      },
      "file_extension": ".py",
      "mimetype": "text/x-python",
      "name": "python",
      "nbconvert_exporter": "python",
      "pygments_lexer": "ipython3",
      "version": "3.8"
    },
    "kernelspec": {
      "name": "python",
      "display_name": "Python (Pyodide)",
      "language": "python"
    }
  },
  "nbformat_minor": 4,
  "nbformat": 4,
  "cells": [
    {
      "cell_type": "markdown",
      "source": "## Задание 1. (Градусник)\nНаписать функцию, которая преобразовывает исходный список градусов Цельсия в список градусов Фаренгейта",
      "metadata": {}
    },
    {
      "cell_type": "code",
      "source": "def change_cel_to_fahr(celsius_list):\n    fahrenheit_list = []\n    for celsius in celsius_list:\n        fahrenheit = celsius * 9/5 + 32\n        fahrenheit_list.append(fahrenheit)\n    return fahrenheit_list\n\ncelsius_temp = [39.2, 36.5, 37.3, 37.8]\nprint(change_cel_to_fahr(celsius_temp))",
      "metadata": {
        "trusted": true
      },
      "execution_count": 1,
      "outputs": [
        {
          "name": "stdout",
          "text": "[102.56, 97.7, 99.14, 100.03999999999999]\n",
          "output_type": "stream"
        }
      ]
    },
    {
      "cell_type": "markdown",
      "source": "## Задание 2. (Длинномер)\nНаписать функцию, которая возвращает список длин каждой строки",
      "metadata": {}
    },
    {
      "cell_type": "code",
      "source": "def get_string_length(string_list):\n    length_list = []\n    for string in string_list:\n        length_list.append(len(string))\n    return length_list\n\nstring_list = ['Tina', 'Raj', 'Tom']\nlength_list = get_string_length(string_list)\nprint(length_list)",
      "metadata": {
        "trusted": true
      },
      "execution_count": 2,
      "outputs": [
        {
          "name": "stdout",
          "text": "[4, 3, 3]\n",
          "output_type": "stream"
        }
      ]
    },
    {
      "cell_type": "markdown",
      "source": "## Задание 3. (Рефакторинг)\nОптимизировать код",
      "metadata": {}
    },
    {
      "cell_type": "code",
      "source": "sentences = ['капитан джек воробей',\n             'капитан дальнего плавания',\n             'ваша лодка готова, капитан']\n\ncap_count = sum(sentence.count('капитан') for sentence in sentences)\n\nprint(cap_count)",
      "metadata": {
        "trusted": true
      },
      "execution_count": 3,
      "outputs": [
        {
          "name": "stdout",
          "text": "3\n",
          "output_type": "stream"
        }
      ]
    },
    {
      "cell_type": "markdown",
      "source": "## Задание 4. (Возведение в степень)\nДано: два списка одинаковой длины: чисел X и степеней Y.\nЗадание: написать функцию, которая возвращает список [x1^y1, x2^y2, ..], где X=[x1, x2, ..], Y=[y1, y2, ..].",
      "metadata": {}
    },
    {
      "cell_type": "code",
      "source": "def exponent(X, Y):\n    return [x ** y for x, y in zip(X, Y)]\n\nX = [2, 3, 4]\nY = [10, 11, 12]\nresult = exponent(X, Y)\nprint(result)",
      "metadata": {
        "trusted": true
      },
      "execution_count": 4,
      "outputs": [
        {
          "name": "stdout",
          "text": "[1024, 177147, 16777216]\n",
          "output_type": "stream"
        }
      ]
    },
    {
      "cell_type": "markdown",
      "source": "## Задание 5. (Возведение в степень)\nнаписать функцию-генератор, которая будет \"лениво\" возвращать значения от 0 до n, определенные следующими правилами.\n\nЕсли\nx == 0 -> -10;\nx % 3 -> 45;\nx % 5 -> (x / 5) + 93;\nИначе\n-> x / 2",
      "metadata": {}
    },
    {
      "cell_type": "code",
      "source": "def generator(n):\n    for x in range(n+1):\n        if x == 0:\n            yield -10\n        elif x % 3 == 0:\n            yield 45\n        elif x % 5 == 0:\n            yield x / 5 + 93\n        else:\n            yield x / 2\n\nn = 3\nresult = list(generator(n))\nprint(result)\n\nn = 7\nresult = list(generator(n))\nprint(result)",
      "metadata": {
        "trusted": true
      },
      "execution_count": 6,
      "outputs": [
        {
          "name": "stdout",
          "text": "[-10, 0.5, 1.0, 45]\n[-10, 0.5, 1.0, 45, 2.0, 94.0, 45, 3.5]\n",
          "output_type": "stream"
        }
      ]
    },
    {
      "cell_type": "markdown",
      "source": "## Задание 6. (Самый большой прямоугольник)\nЕсть гистограмма. Попробуйте найти размер самого большого прямоугольника, который можно построить из столбцов гистограммы.",
      "metadata": {}
    },
    {
      "cell_type": "code",
      "source": "def largest_histogram(histogram):\n    index_set = []\n    max_value = 0\n    i = 0\n    #проходимся по гистограмме\n    while i <= len(histogram):\n        if i < len(histogram): #проверяем, не меньше ли текущий индекс длины гистограммы\n            height = histogram[i]\n        else:\n            height = 0\n        if not index_set or height >= histogram[index_set[-1]]: #если стек пуст или текущая высота больше или равна высоте в верхней части стека\n            index_set.append(i) #добавяем текущий индекс в стек\n            i += 1\n        else: #вычисляем площадь прямоугольника\n            top = index_set.pop()\n            area = histogram[top] * (i - index_set[-1] - 1 if index_set else i)\n            max_value = max(max_value, area)\n    return max_value\n\n\nprint(largest_histogram([5]))\nprint(largest_histogram([5, 3]))\nprint(largest_histogram([1, 1, 4, 1]))\nprint(largest_histogram([1, 1, 3, 1]))\nprint(largest_histogram([2, 1, 4, 5, 1, 3, 3]))",
      "metadata": {
        "trusted": true
      },
      "execution_count": 8,
      "outputs": [
        {
          "name": "stdout",
          "text": "5\n6\n4\n4\n8\n",
          "output_type": "stream"
        }
      ]
    },
    {
      "cell_type": "code",
      "source": "",
      "metadata": {},
      "execution_count": null,
      "outputs": []
    }
  ]
}