{
  "metadata": {
    "language_info": {
      "codemirror_mode": {
        "name": "python",
        "version": 3
      },
      "file_extension": ".py",
      "mimetype": "text/x-python",
      "name": "python",
      "nbconvert_exporter": "python",
      "pygments_lexer": "ipython3",
      "version": "3.8"
    },
    "kernelspec": {
      "name": "python",
      "display_name": "Python (Pyodide)",
      "language": "python"
    }
  },
  "nbformat_minor": 4,
  "nbformat": 4,
  "cells": [
    {
      "cell_type": "markdown",
      "source": "## Задание 1. (Список из числа)\nНаписать функцию, которая возвращает список всех цифр этого числа в обратном порядке",
      "metadata": {}
    },
    {
      "cell_type": "code",
      "source": "def reverse(num):\n    list_of_didgits = []\n    while num > 0:\n        list_of_didgits.append(num % 10)\n        num //= 10\n    return list_of_didgits\nprint (reverse(1234))",
      "metadata": {
        "trusted": true
      },
      "execution_count": 2,
      "outputs": [
        {
          "name": "stdout",
          "text": "[4, 3, 2, 1]\n",
          "output_type": "stream"
        }
      ]
    },
    {
      "cell_type": "markdown",
      "source": "## Задание 2. (Полиндром)\nнаписать функцию, которая возвращает True, если слово палиндромом, иначе False.",
      "metadata": {}
    },
    {
      "cell_type": "code",
      "source": "def check_palindrom(word):\n    word = word.lower()\n\n    if word == word[::-1]:\n        return True\n    else:\n        return False\n\nprint (check_palindrom(\"Топот\"))\nprint (check_palindrom(\"Дерево\"))",
      "metadata": {
        "trusted": true
      },
      "execution_count": 3,
      "outputs": [
        {
          "name": "stdout",
          "text": "True\nFalse\n",
          "output_type": "stream"
        }
      ]
    },
    {
      "cell_type": "markdown",
      "source": "## Задание 3. (Деканат)\nДано: список студентов: каждый элемент списка содержит фамилию, имя, отчество, год рождения, курс, номер группы, оценки по пяти предметам.\n\nЗадание: реализуйте сл. функции:\n1) возвращает список студентов по курсу, причем студенты одного курса располагались в алфавитном порядке;\n2) находит средний балл каждой группы по каждому предмету;\n3) определяет самого старшего студента и самого младшего студентов.\n4) возвращает словарь, где для каждой группы определен лучшый с точки зрения успеваемости студент.",
      "metadata": {}
    },
    {
      "cell_type": "code",
      "source": "students = [\n    [\"Петр\", \"Петров\", \"Петрович\", 2001, 2, 590, [5, 3, 5, 4, 5]],\n    [\"Иван\", \"Самойлов\", \"Алексеевич\", 2002, 2, 580, [3, 4, 4, 3, 5]],\n    [\"Данил\", \"Адамов\", \"Данилович\", 2000, 3, 590, [5, 4, 4, 4, 4]],\n    [\"Василий\", \"Иванов\", \"Михайлович\", 2003, 1, 580, [3, 4, 5, 4, 5]],\n    [\"Генадий\", \"Горин\", \"Николаевич\", 1999, 2, 570, [5, 4, 5, 4, 3]],\n    [\"Сергей\", \"Сидоров\", \"Романович\", 2000, 4, 560, [5, 4, 3, 4, 5]],\n]\n\n\"\"\" Сортировка по курсу\"\"\"\ndef sort_by_course(list_of_students):\n    list_of_students.sort(key=lambda student: (student[4], student[0]))\n    grouped_students = {} # словарь с номером курса и списком студентов на этом курсе\n    #для каждого студента получить номер курса\n    for student in list_of_students:\n        course = student[4]\n        if course not in grouped_students: # если курса нет в словаре\n            grouped_students[course] = []\n        grouped_students[course].append(student)  # добавить студента в список студентов на этом курсе\n\n    # Сортировка по фамилии\n    for course in grouped_students:\n        grouped_students[course].sort(key=lambda student: student[1])\n\n    # Создаем список студентов\n    sorted_students = []\n    for course in sorted(grouped_students):\n        sorted_students.extend(grouped_students[course])\n\n    return sorted_students\n\n\"\"\" Поиск средней оценки\"\"\"\ndef find_avg(students):\n    num_of_subjects = len(students[0][-1])\n    num_of_groups = len(set([s[4] for s in students]))\n\n    #список для хранения суммарных оценок для каждой группы и предмета\n    total_grades = [[0] * num_of_subjects for _ in range(num_of_groups)]\n    num_of_students = [0] * num_of_groups\n\n# перебираем каждого студента и добавляем его баллы к суммарным показателям групп\n    for student in students:\n        group_num = student[4] - 1\n        for j in range(len(student[-1])):\n            total_grades[group_num][j] += student[-1][j]\n        num_of_students[group_num] += 1\n\n    # средний балл для каждой группы и предмета\n    average = [[round(total_grades[g][s] / num_of_students[g], 2) for s in range(num_of_subjects)] for g in range(num_of_groups)]\n\n    # вывод результата\n    for i in range(len(average)):\n        avg_scores = average[i]\n        print(f\"Группа {i + 1} имеет средний балл: {avg_scores}\")\n\n\n\"\"\" Поиск старшего и младшего студента\"\"\"\ndef find_old_and_young(students):\n    old = students[0]\n    young = students[0]\n\n    #Проходимся по списку студентов\n    for student in students:\n        if student[3] < old[3]:\n            old = student\n        if student[3] > young[3]:\n            young = student\n\n    return old, young\n\n\"\"\" Поиск лучшего по успеваемости\"\"\"\ndef find_best_student(students):\n    best_students = {} #пустой словарь для хранения лучшего студента\n\n    # перебираем всех студентов в списке\n    for student in students:\n        group_number = student[5]\n        grades = student[6]\n        average_grade = sum(grades) / len(grades)   # вычислить средний балл\n\n        if group_number not in best_students:\n            best_students[group_number] = student # добавить студента в словарь, если в словаре нет группы текущего студента\n        else: # иначе получить текущего лучшего студента данной группы\n            current_best = best_students[group_number]\n            current_best_grades = current_best[6]\n            current_best_average = sum(current_best_grades) / len(current_best_grades) # вычислить средний балл\n\n            if average_grade > current_best_average: #если текущий студент имеет более высокий средний балл\n                best_students[group_number] = student # заменить текущего лучшего студента на студента в словаре\n\n    return best_students\n\n\"\"\" Вывод результа раоботы функций\"\"\"\n\nprint(\"----------------1 Таблица всех Студентов----------------\")\nsorted_students = sort_by_course(students)\nfor student in sorted_students:\n    print(student)\n#\nprint(\"----------------2 Средняя оценка каждой группы----------------\")\nfind_avg(students)\n#\nprint(\"----------------3 Самый старший и младший студент----------------\")\noldest, youngest = find_old_and_young(students)\nprint(f\"Самый старший студент {oldest[1]} {oldest[0]},  {oldest[3]}\")\nprint(f\"Самый младший студент {youngest[1]} {youngest[0]}, {youngest[3]}\")\n#\nprint(\"----------------4 Лучший по успеваемости студент----------------\")\nbest_students = find_best_student(students)\nfor group_number, student in best_students.items():\n    full_name = f\"{student[1]} {student[0]} {student[2]}\"\n    print(f\"Лучший студенты группы {group_number} {full_name} со средним баллом {sum(student[6]) / len(student[6]):.2f}\")",
      "metadata": {
        "trusted": true
      },
      "execution_count": 6,
      "outputs": [
        {
          "name": "stdout",
          "text": "----------------1 Таблица всех Студентов----------------\n['Василий', 'Иванов', 'Михайлович', 2003, 1, 580, [3, 4, 5, 4, 5]]\n['Генадий', 'Горин', 'Николаевич', 1999, 2, 570, [5, 4, 5, 4, 3]]\n['Петр', 'Петров', 'Петрович', 2001, 2, 590, [5, 3, 5, 4, 5]]\n['Иван', 'Самойлов', 'Алексеевич', 2002, 2, 580, [3, 4, 4, 3, 5]]\n['Данил', 'Адамов', 'Данилович', 2000, 3, 590, [5, 4, 4, 4, 4]]\n['Сергей', 'Сидоров', 'Романович', 2000, 4, 560, [5, 4, 3, 4, 5]]\n----------------2 Средняя оценка каждой группы----------------\nГруппа 1 имеет средний балл: [3.0, 4.0, 5.0, 4.0, 5.0]\nГруппа 2 имеет средний балл: [4.33, 3.67, 4.67, 3.67, 4.33]\nГруппа 3 имеет средний балл: [5.0, 4.0, 4.0, 4.0, 4.0]\nГруппа 4 имеет средний балл: [5.0, 4.0, 3.0, 4.0, 5.0]\n----------------3 Самый старший и младший студент----------------\nСамый старший студент Горин Генадий,  1999\nСамый младший студент Иванов Василий, 2003\n----------------4 Лучший по успеваемости студент----------------\nЛучший студенты группы 580 Иванов Василий Михайлович со средним баллом 4.20\nЛучший студенты группы 570 Горин Генадий Николаевич со средним баллом 4.20\nЛучший студенты группы 590 Петров Петр Петрович со средним баллом 4.40\nЛучший студенты группы 560 Сидоров Сергей Романович со средним баллом 4.20\n",
          "output_type": "stream"
        }
      ]
    },
    {
      "cell_type": "code",
      "source": "",
      "metadata": {},
      "execution_count": null,
      "outputs": []
    }
  ]
}