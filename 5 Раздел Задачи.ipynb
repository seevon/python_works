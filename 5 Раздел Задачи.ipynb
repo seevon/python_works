{
  "metadata": {
    "language_info": {
      "codemirror_mode": {
        "name": "python",
        "version": 3
      },
      "file_extension": ".py",
      "mimetype": "text/x-python",
      "name": "python",
      "nbconvert_exporter": "python",
      "pygments_lexer": "ipython3",
      "version": "3.8"
    },
    "kernelspec": {
      "name": "python",
      "display_name": "Python (Pyodide)",
      "language": "python"
    }
  },
  "nbformat_minor": 4,
  "nbformat": 4,
  "cells": [
    {
      "cell_type": "markdown",
      "source": "## Задание 1. (Fizz Buzz)\nНаписать программу, которая принимает положительное целое число и возвращает сл. значения",
      "metadata": {}
    },
    {
      "cell_type": "code",
      "source": "def game(number):\n    if number % 3 == 0 and number % 5 == 0:\n        return \"Fizz Buzz\"\n    elif number % 3 == 0:\n        return \"Fizz\"\n    elif number % 5 == 0:\n        return \"Buzz\"\n\nnumber = 45\nprint(game(number))",
      "metadata": {
        "trusted": true
      },
      "execution_count": 5,
      "outputs": [
        {
          "name": "stdout",
          "text": "Fizz Buzz\n",
          "output_type": "stream"
        }
      ]
    },
    {
      "cell_type": "markdown",
      "source": "## Задание 2. (Оценка числа)\nНаписать программу, которая дает оценку заданному значению, используя следующие правила.",
      "metadata": {}
    },
    {
      "cell_type": "code",
      "source": "def estimate_number(x):\n    if x % 2 != 0:\n        return \"Плохо\"\n    elif x in range(2, 5):\n        return \"Неплохо\"\n    elif x in range(6, 21):\n        return \"Так себе\"\n    elif x > 20:\n        return \"Отлично\"\n\nx = 22\nprint(estimate_number(x))",
      "metadata": {
        "trusted": true
      },
      "execution_count": 3,
      "outputs": [
        {
          "name": "stdout",
          "text": "Отлично\n",
          "output_type": "stream"
        }
      ]
    },
    {
      "cell_type": "markdown",
      "source": "## Задание 3. ( Последовательность)\nНаписать программу, которая выведет последовательность 123..N",
      "metadata": {}
    },
    {
      "cell_type": "code",
      "source": "number = 7\nfor x in range(1, number+1):\n    print(x, end='')\nprint()",
      "metadata": {
        "trusted": true
      },
      "execution_count": 8,
      "outputs": [
        {
          "name": "stdout",
          "text": "1234567\n",
          "output_type": "stream"
        }
      ]
    },
    {
      "cell_type": "markdown",
      "source": "## Задание 4. (Секретное сообщение)\nСоберите все заглавные буквы в одно слово в том порядке как они встречаются в куске текста.",
      "metadata": {}
    },
    {
      "cell_type": "code",
      "source": "text = \"Где умный человек прячет Лист? В лесу. Но что Если леса нет? ... Он выращивает лес и Прячет его Там.\"\nresult = \"\"\n\nfor char in text:\n    if char.isupper():\n        result += char\n\nprint(result)",
      "metadata": {
        "trusted": true
      },
      "execution_count": 10,
      "outputs": [
        {
          "name": "stdout",
          "text": "ГЛВНЕОПТ\n",
          "output_type": "stream"
        }
      ]
    },
    {
      "cell_type": "code",
      "source": "",
      "metadata": {},
      "execution_count": null,
      "outputs": []
    }
  ]
}