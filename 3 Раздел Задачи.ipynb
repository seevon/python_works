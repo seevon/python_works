{
  "metadata": {
    "language_info": {
      "codemirror_mode": {
        "name": "python",
        "version": 3
      },
      "file_extension": ".py",
      "mimetype": "text/x-python",
      "name": "python",
      "nbconvert_exporter": "python",
      "pygments_lexer": "ipython3",
      "version": "3.8"
    },
    "kernelspec": {
      "name": "python",
      "display_name": "Python (Pyodide)",
      "language": "python"
    }
  },
  "nbformat_minor": 4,
  "nbformat": 4,
  "cells": [
    {
      "cell_type": "markdown",
      "source": "## Задание 1 (Welcome to Python)\nДано: имя и фамилия.\nНаписать программу, которая будет приветствовать нового человека в мире Python.",
      "metadata": {}
    },
    {
      "cell_type": "code",
      "source": "def print_hi(name):\n    print(f'Hello {name}', 'You just delved into Python. Great start!')\n\nif __name__ == '__main__':\n    print_hi('Mihail Rahimov!')",
      "metadata": {
        "trusted": true
      },
      "execution_count": 1,
      "outputs": [
        {
          "name": "stdout",
          "text": "Hello Mihail Rahimov! You just delved into Python. Great start!\n",
          "output_type": "stream"
        }
      ]
    },
    {
      "cell_type": "markdown",
      "source": "## Задание 2 (Python art)\nДано: маркер (символ) и толщина фигуры.\nНаписать программу, которая будет отображать заданную фигуру.",
      "metadata": {}
    },
    {
      "cell_type": "code",
      "source": "marker = 'B'\nthickness = 5\n\ndef display_form(marker, thickness):\n    # Top\n    print(\" \" * (thickness - 1) + marker)\n    for i in range(1, thickness):\n        print(\" \" * (thickness - i - 1) + marker + \" \" * (2 * i - 1) + marker)\n\n    # Middle\n    print(marker + \" \" * (2 * thickness - 3) + marker)\n\n    # Bottom\n    for i in range(thickness - 1, 0, -1):\n        print(\" \" * (thickness - i - 1) + marker + \" \" * (2 * i - 1) + marker)\n    print(\" \" * (thickness - 1) + marker)\n\nif __name__ == '__main__':\n    display_form(marker, thickness)",
      "metadata": {
        "trusted": true
      },
      "execution_count": 4,
      "outputs": [
        {
          "name": "stdout",
          "text": "    B\n   B B\n  B   B\n B     B\nB       B\nB       B\nB       B\n B     B\n  B   B\n   B B\n    B\n",
          "output_type": "stream"
        }
      ]
    },
    {
      "cell_type": "markdown",
      "source": "## Задание 3 (Заголовок)\nДано: текст любой длины.\nНаписать программу, которая выведет заголовок, используя заданный текст. Подсказка используйте метод title.\n",
      "metadata": {}
    },
    {
      "cell_type": "code",
      "source": "text = \"hello python world\"\ntitle_text = text.title()\nprint(title_text)",
      "metadata": {
        "trusted": true
      },
      "execution_count": 2,
      "outputs": [
        {
          "name": "stdout",
          "text": "Hello Python World\n",
          "output_type": "stream"
        }
      ]
    },
    {
      "cell_type": "markdown",
      "source": "## Задание 4 (Форматированный вывод денежной суммы)\nДано: денежная сумма (amount > 0).\nНаписать программу, которая распечатает число в принятом денежном формате XXX,XXX.XX.",
      "metadata": {}
    },
    {
      "cell_type": "code",
      "source": "amount = 100500.157\nformatted_amount = \"{:,.2f}\".format(amount)\nprint(formatted_amount)",
      "metadata": {
        "trusted": true
      },
      "execution_count": 3,
      "outputs": [
        {
          "name": "stdout",
          "text": "100,500.16\n",
          "output_type": "stream"
        }
      ]
    },
    {
      "cell_type": "code",
      "source": "",
      "metadata": {},
      "execution_count": null,
      "outputs": []
    }
  ]
}