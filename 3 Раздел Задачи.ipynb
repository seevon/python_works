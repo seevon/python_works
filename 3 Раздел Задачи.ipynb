{
  "metadata": {
    "language_info": {
      "codemirror_mode": {
        "name": "python",
        "version": 3
      },
      "file_extension": ".py",
      "mimetype": "text/x-python",
      "name": "python",
      "nbconvert_exporter": "python",
      "pygments_lexer": "ipython3",
      "version": "3.8"
    },
    "kernelspec": {
      "name": "python",
      "display_name": "Python (Pyodide)",
      "language": "python"
    }
  },
  "nbformat_minor": 4,
  "nbformat": 4,
  "cells": [
    {
      "cell_type": "markdown",
      "source": "## Задание 1\nДано: имя и фамилия.\nНаписать программу, которая будет приветствовать нового человека в мире Python.",
      "metadata": {}
    },
    {
      "cell_type": "code",
      "source": "def print_hi(name):\n    print(f'Hello {name}', 'You just delved into Python. Great start!')\n\nif __name__ == '__main__':\n    print_hi('Mihail Rahimov!')",
      "metadata": {
        "trusted": true
      },
      "execution_count": 1,
      "outputs": [
        {
          "name": "stdout",
          "text": "Hello Mihail Rahimov! You just delved into Python. Great start!\n",
          "output_type": "stream"
        }
      ]
    },
    {
      "cell_type": "markdown",
      "source": "## Задание 2\nДано: маркер (символ) и толщина фигуры.\nНаписать программу, которая будет отображать заданную фигуру.",
      "metadata": {}
    },
    {
      "cell_type": "code",
      "source": "def display_form(marker, thickness):\n    # Top\n    print(\" \" * (thickness - 1) + marker)\n    for i in range(1, thickness):\n        print(\" \" * (thickness - i - 1) + marker + \" \" * (2 * i - 1) + marker)\n\n    # Middle\n    print(marker + \" \" * (2 * thickness - 3) + marker)\n\n    # Bottom\n    for i in range(thickness - 1, 0, -1):\n        print(\" \" * (thickness - i - 1) + marker + \" \" * (2 * i - 1) + marker)\n    print(\" \" * (thickness - 1) + marker)\n\ndef main():\n    marker = input(\"Input symbol: \")\n    thickness = int(input(\"Input bold: \"))\n    display_form(marker, thickness)\n\n\nif __name__ == '__main__':\n    main()",
      "metadata": {},
      "execution_count": null,
      "outputs": []
    },
    {
      "cell_type": "code",
      "source": "",
      "metadata": {},
      "execution_count": null,
      "outputs": []
    }
  ]
}