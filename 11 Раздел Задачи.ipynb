{
  "metadata": {
    "language_info": {
      "codemirror_mode": {
        "name": "python",
        "version": 3
      },
      "file_extension": ".py",
      "mimetype": "text/x-python",
      "name": "python",
      "nbconvert_exporter": "python",
      "pygments_lexer": "ipython3",
      "version": "3.8"
    },
    "kernelspec": {
      "name": "python",
      "display_name": "Python (Pyodide)",
      "language": "python"
    }
  },
  "nbformat_minor": 4,
  "nbformat": 4,
  "cells": [
    {
      "cell_type": "markdown",
      "source": "## Задание 1. (Случайности не случайны) \nНаписать функцию-генератор, которая возвращает n дробных чисел из диапазона [0, n]. Используйте функцию random.uniform для генерации случайных чисел.",
      "metadata": {}
    },
    {
      "cell_type": "code",
      "source": "import random\n\ndef generator(n):\n    for i in range(n):\n        yield random.uniform(0, n)\n\nresult = list(generator(3))\nprint(result)",
      "metadata": {
        "trusted": true
      },
      "execution_count": 1,
      "outputs": [
        {
          "name": "stdout",
          "text": "[2.107394649250849, 2.6699292621338673, 0.02538937382766915]\n",
          "output_type": "stream"
        }
      ]
    },
    {
      "cell_type": "markdown",
      "source": "## Задание 2. (Ленивое объединение) \nДано: 2 списка произвольной длины.\n\nЗадание: написать функцию, которая возвращает результат объединения этих списков. Используйте функцию itertools.chain.",
      "metadata": {}
    },
    {
      "cell_type": "code",
      "source": "import itertools\n\ndef union_lists(list1, list2):\n    return list(itertools.chain(list1, list2))\n\nresult = list(union_lists([1, 2], [3, 4]))\nprint(result)",
      "metadata": {
        "trusted": true
      },
      "execution_count": 2,
      "outputs": [
        {
          "name": "stdout",
          "text": "[1, 2, 3, 4]\n",
          "output_type": "stream"
        }
      ]
    },
    {
      "cell_type": "markdown",
      "source": "## Задание 3. (Рефакторинг) \nДано: неоптимальный код.\nЗадание: оптимизировать код.",
      "metadata": {}
    },
    {
      "cell_type": "code",
      "source": "def responses_creator(item_ids):\n    item_ids = item_ids or [None]\n    responses = [{'item_id': item_id} for item_id in item_ids]\n    return responses",
      "metadata": {
        "trusted": true
      },
      "execution_count": 3,
      "outputs": []
    }
  ]
}